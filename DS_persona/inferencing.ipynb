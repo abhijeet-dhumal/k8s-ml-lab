{
 "cells": [
  {
   "cell_type": "code",
   "execution_count": 1,
   "id": "1154bf95-0c04-4726-bf5b-ce806f6f4b96",
   "metadata": {},
   "outputs": [],
   "source": [
    "import os\n",
    "import torch\n",
    "\n",
    "# Define the MNIST CNN model architecture (as used during training)\n",
    "class Net(torch.nn.Module):\n",
    "    def __init__(self):\n",
    "        super(Net, self).__init__()\n",
    "        self.conv1 = torch.nn.Conv2d(1, 20, 5, 1)\n",
    "        self.conv2 = torch.nn.Conv2d(20, 50, 5, 1)\n",
    "        self.fc1 = torch.nn.Linear(4 * 4 * 50, 500)\n",
    "        self.fc2 = torch.nn.Linear(500, 10)\n",
    "\n",
    "    def forward(self, x):\n",
    "        import torch.nn.functional as F\n",
    "        x = F.relu(self.conv1(x))\n",
    "        x = F.max_pool2d(x, 2, 2)\n",
    "        x = F.relu(self.conv2(x))\n",
    "        x = F.max_pool2d(x, 2, 2)\n",
    "        x = x.view(-1, 4 * 4 * 50)\n",
    "        x = F.relu(self.fc1(x))\n",
    "        x = self.fc2(x)\n",
    "        return F.log_softmax(x, dim=1)"
   ]
  },
  {
   "cell_type": "code",
   "execution_count": 3,
   "id": "8d5a1b39-2694-451a-be7d-bdb588fbd8de",
   "metadata": {},
   "outputs": [
    {
     "name": "stdout",
     "output_type": "stream",
     "text": [
      "Model loaded and set to evaluation mode.\n"
     ]
    }
   ],
   "source": [
    "device = torch.device(\"cuda\" if torch.cuda.is_available() else \"cpu\")\n",
    "model = Net().to(device)\n",
    "image_path=\"/Users/abdhumal/Dev/RedHatDev/k8s-ml-lab/examples/01-complete-workflow/test_images/digit3.jpg\"\n",
    "model_path=\"/Users/abdhumal/Dev/RedHatDev/k8s-ml-lab/output/mnist_model.pth\"\n",
    "state_dict = torch.load(model_path, map_location=device, weights_only=True)\n",
    "model.load_state_dict(state_dict)\n",
    "model.eval()\n",
    "print(\"Model loaded and set to evaluation mode.\")"
   ]
  },
  {
   "cell_type": "code",
   "execution_count": 4,
   "id": "11a954e9-ebaa-4595-b541-901f7d9d1b2e",
   "metadata": {},
   "outputs": [
    {
     "name": "stdout",
     "output_type": "stream",
     "text": [
      "Predicted handwritten digit: 3\n"
     ]
    }
   ],
   "source": [
    "import torchvision.transforms as transforms\n",
    "from PIL import Image\n",
    "\n",
    "transform = transforms.Compose([\n",
    "    transforms.Grayscale(num_output_channels=1),\n",
    "    transforms.Resize((28, 28)),\n",
    "    transforms.ToTensor(),\n",
    "    transforms.Normalize((0.1307,), (0.3081,))\n",
    "])\n",
    "\n",
    "# Load the image and apply the transformations\n",
    "image = Image.open(image_path)\n",
    "image = transform(image).unsqueeze(0).to(device)\n",
    "\n",
    "# Perform inference using the model\n",
    "with torch.no_grad():\n",
    "    output = model(image)\n",
    "    predicted = output.argmax(dim=1, keepdim=True).item()\n",
    "\n",
    "print(f\"Predicted handwritten digit: {predicted}\")\n"
   ]
  },
  {
   "cell_type": "code",
   "execution_count": null,
   "id": "b21dc235-4099-4f81-ae86-f165fae70bf6",
   "metadata": {},
   "outputs": [],
   "source": []
  }
 ],
 "metadata": {
  "kernelspec": {
   "display_name": "venv",
   "language": "python",
   "name": "python3"
  },
  "language_info": {
   "codemirror_mode": {
    "name": "ipython",
    "version": 3
   },
   "file_extension": ".py",
   "mimetype": "text/x-python",
   "name": "python",
   "nbconvert_exporter": "python",
   "pygments_lexer": "ipython3",
   "version": "3.12.11"
  }
 },
 "nbformat": 4,
 "nbformat_minor": 5
}
