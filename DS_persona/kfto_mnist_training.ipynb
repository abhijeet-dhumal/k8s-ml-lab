{
 "cells": [
  {
   "cell_type": "code",
   "execution_count": 14,
   "id": "9a0bff2d-8b64-4771-a775-612487ea6652",
   "metadata": {
    "scrolled": true
   },
   "outputs": [
    {
     "name": "stdout",
     "output_type": "stream",
     "text": [
      "Requirement already satisfied: kubeflow-training in /Users/abdhumal/Dev/RedHatDev/k8s-ml-lab/venv/lib/python3.12/site-packages (1.9.3)\n",
      "Requirement already satisfied: certifi>=14.05.14 in /Users/abdhumal/Dev/RedHatDev/k8s-ml-lab/venv/lib/python3.12/site-packages (from kubeflow-training) (2025.8.3)\n",
      "Requirement already satisfied: six>=1.10 in /Users/abdhumal/Dev/RedHatDev/k8s-ml-lab/venv/lib/python3.12/site-packages (from kubeflow-training) (1.17.0)\n",
      "Requirement already satisfied: setuptools>=21.0.0 in /Users/abdhumal/Dev/RedHatDev/k8s-ml-lab/venv/lib/python3.12/site-packages (from kubeflow-training) (80.9.0)\n",
      "Requirement already satisfied: urllib3>=1.15.1 in /Users/abdhumal/Dev/RedHatDev/k8s-ml-lab/venv/lib/python3.12/site-packages (from kubeflow-training) (2.5.0)\n",
      "Requirement already satisfied: kubernetes>=27.2.0 in /Users/abdhumal/Dev/RedHatDev/k8s-ml-lab/venv/lib/python3.12/site-packages (from kubeflow-training) (33.1.0)\n",
      "Requirement already satisfied: retrying>=1.3.3 in /Users/abdhumal/Dev/RedHatDev/k8s-ml-lab/venv/lib/python3.12/site-packages (from kubeflow-training) (1.4.2)\n",
      "Requirement already satisfied: python-dateutil>=2.5.3 in /Users/abdhumal/Dev/RedHatDev/k8s-ml-lab/venv/lib/python3.12/site-packages (from kubernetes>=27.2.0->kubeflow-training) (2.9.0.post0)\n",
      "Requirement already satisfied: pyyaml>=5.4.1 in /Users/abdhumal/Dev/RedHatDev/k8s-ml-lab/venv/lib/python3.12/site-packages (from kubernetes>=27.2.0->kubeflow-training) (6.0.2)\n",
      "Requirement already satisfied: google-auth>=1.0.1 in /Users/abdhumal/Dev/RedHatDev/k8s-ml-lab/venv/lib/python3.12/site-packages (from kubernetes>=27.2.0->kubeflow-training) (2.40.3)\n",
      "Requirement already satisfied: websocket-client!=0.40.0,!=0.41.*,!=0.42.*,>=0.32.0 in /Users/abdhumal/Dev/RedHatDev/k8s-ml-lab/venv/lib/python3.12/site-packages (from kubernetes>=27.2.0->kubeflow-training) (1.8.0)\n",
      "Requirement already satisfied: requests in /Users/abdhumal/Dev/RedHatDev/k8s-ml-lab/venv/lib/python3.12/site-packages (from kubernetes>=27.2.0->kubeflow-training) (2.32.4)\n",
      "Requirement already satisfied: requests-oauthlib in /Users/abdhumal/Dev/RedHatDev/k8s-ml-lab/venv/lib/python3.12/site-packages (from kubernetes>=27.2.0->kubeflow-training) (2.0.0)\n",
      "Requirement already satisfied: oauthlib>=3.2.2 in /Users/abdhumal/Dev/RedHatDev/k8s-ml-lab/venv/lib/python3.12/site-packages (from kubernetes>=27.2.0->kubeflow-training) (3.3.1)\n",
      "Requirement already satisfied: durationpy>=0.7 in /Users/abdhumal/Dev/RedHatDev/k8s-ml-lab/venv/lib/python3.12/site-packages (from kubernetes>=27.2.0->kubeflow-training) (0.10)\n",
      "Requirement already satisfied: cachetools<6.0,>=2.0.0 in /Users/abdhumal/Dev/RedHatDev/k8s-ml-lab/venv/lib/python3.12/site-packages (from google-auth>=1.0.1->kubernetes>=27.2.0->kubeflow-training) (5.5.2)\n",
      "Requirement already satisfied: pyasn1-modules>=0.2.1 in /Users/abdhumal/Dev/RedHatDev/k8s-ml-lab/venv/lib/python3.12/site-packages (from google-auth>=1.0.1->kubernetes>=27.2.0->kubeflow-training) (0.4.2)\n",
      "Requirement already satisfied: rsa<5,>=3.1.4 in /Users/abdhumal/Dev/RedHatDev/k8s-ml-lab/venv/lib/python3.12/site-packages (from google-auth>=1.0.1->kubernetes>=27.2.0->kubeflow-training) (4.9.1)\n",
      "Requirement already satisfied: charset_normalizer<4,>=2 in /Users/abdhumal/Dev/RedHatDev/k8s-ml-lab/venv/lib/python3.12/site-packages (from requests->kubernetes>=27.2.0->kubeflow-training) (3.4.3)\n",
      "Requirement already satisfied: idna<4,>=2.5 in /Users/abdhumal/Dev/RedHatDev/k8s-ml-lab/venv/lib/python3.12/site-packages (from requests->kubernetes>=27.2.0->kubeflow-training) (3.10)\n",
      "Requirement already satisfied: pyasn1<0.7.0,>=0.6.1 in /Users/abdhumal/Dev/RedHatDev/k8s-ml-lab/venv/lib/python3.12/site-packages (from pyasn1-modules>=0.2.1->google-auth>=1.0.1->kubernetes>=27.2.0->kubeflow-training) (0.6.1)\n",
      "\n",
      "\u001b[1m[\u001b[0m\u001b[34;49mnotice\u001b[0m\u001b[1;39;49m]\u001b[0m\u001b[39;49m A new release of pip is available: \u001b[0m\u001b[31;49m25.0.1\u001b[0m\u001b[39;49m -> \u001b[0m\u001b[32;49m25.2\u001b[0m\n",
      "\u001b[1m[\u001b[0m\u001b[34;49mnotice\u001b[0m\u001b[1;39;49m]\u001b[0m\u001b[39;49m To update, run: \u001b[0m\u001b[32;49mpip install --upgrade pip\u001b[0m\n",
      "Note: you may need to restart the kernel to use updated packages.\n"
     ]
    }
   ],
   "source": [
    "%pip install -U kubeflow-training"
   ]
  },
  {
   "cell_type": "code",
   "execution_count": 2,
   "id": "43c9388c-bd71-4877-a358-fcb57d797848",
   "metadata": {},
   "outputs": [
    {
     "name": "stdout",
     "output_type": "stream",
     "text": [
      "Name: kubeflow-training\n",
      "Version: 1.9.3\n",
      "Summary: Training Operator Python SDK\n",
      "Home-page: https://github.com/kubeflow/training-operator/tree/master/sdk/python\n",
      "Author: Kubeflow Authors\n",
      "Author-email: hejinchi@cn.ibm.com\n",
      "License: Apache License Version 2.0\n",
      "Location: /Users/abdhumal/Dev/RedHatDev/k8s-ml-lab/venv/lib/python3.12/site-packages\n",
      "Requires: certifi, kubernetes, retrying, setuptools, six, urllib3\n",
      "Required-by: \n",
      "Note: you may need to restart the kernel to use updated packages.\n"
     ]
    }
   ],
   "source": [
    "%pip show kubeflow-training"
   ]
  },
  {
   "cell_type": "code",
   "execution_count": 17,
   "id": "3c764f98-ac42-4edd-9275-fe54aabb2dfb",
   "metadata": {},
   "outputs": [],
   "source": [
    "from kubernetes import client\n",
    "from kubeflow.training import TrainingClient\n",
    "client = TrainingClient()"
   ]
  },
  {
   "cell_type": "code",
   "execution_count": null,
   "id": "ec5f3e08-078f-4c92-842b-9757a3a2d814",
   "metadata": {},
   "outputs": [],
   "source": [
    "from mnist_sdk import train_func\n",
    "\n",
    "# Start PyTorchJob with 2 Workers and volume mounts for kind cluster\n",
    "client.create_job(\n",
    "   name=\"mnist-training\",\n",
    "   train_func=train_func,\n",
    "   base_image=\"abhijeetarundhumal/pytorch-cpu:0.0.1\",\n",
    "   num_workers=2,\n",
    "   resources_per_worker={\n",
    "       \"gpu\": \"0\",\n",
    "       \"memory\": \"800Mi\",  # Set memory limit per worker\n",
    "       \"cpu\": \"800m\"       # Set CPU limit per worker\n",
    "   },\n",
    ")"
   ]
  },
  {
   "cell_type": "code",
   "execution_count": 39,
   "id": "7eb54f41-374d-4a2d-9a0a-4ef51001a82f",
   "metadata": {},
   "outputs": [
    {
     "name": "stdout",
     "output_type": "stream",
     "text": [
      "waiting.\n",
      "PytorchJob succeeded!\n"
     ]
    }
   ],
   "source": [
    "import time\n",
    "print(\"waiting.\")\n",
    "while not client.is_job_succeeded(name=\"mnist-training\"):\n",
    "    print(\".\", end=\"\")\n",
    "    time.sleep(1)\n",
    "print(\"PytorchJob succeeded!\")"
   ]
  },
  {
   "cell_type": "code",
   "execution_count": 11,
   "id": "142c2944-3f01-4634-be30-22100db0fa33",
   "metadata": {},
   "outputs": [],
   "source": [
    "client.delete_job(\"mnist-training\")"
   ]
  },
  {
   "cell_type": "code",
   "execution_count": null,
   "id": "c003a8dc-028c-4555-9554-67c1fb2105b0",
   "metadata": {},
   "outputs": [],
   "source": []
  },
  {
   "cell_type": "code",
   "execution_count": null,
   "id": "1e9cec2c-7d68-45a0-a6e7-f24f0c35b012",
   "metadata": {},
   "outputs": [],
   "source": []
  }
 ],
 "metadata": {
  "kernelspec": {
   "display_name": "venv",
   "language": "python",
   "name": "python3"
  },
  "language_info": {
   "codemirror_mode": {
    "name": "ipython",
    "version": 3
   },
   "file_extension": ".py",
   "mimetype": "text/x-python",
   "name": "python",
   "nbconvert_exporter": "python",
   "pygments_lexer": "ipython3",
   "version": "3.12.11"
  }
 },
 "nbformat": 4,
 "nbformat_minor": 5
}
